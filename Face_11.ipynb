{
  "cells": [
    {
      "cell_type": "markdown",
      "metadata": {},
      "source": [
        "## MTCNN & CNN & system video"
      ]
    },
    {
      "cell_type": "code",
      "execution_count": 1,
      "metadata": {
        "id": "EwpCJfRlocTA"
      },
      "outputs": [],
      "source": [
        "import cv2\n",
        "import requests\n",
        "from io import BytesIO\n",
        "# extract and plot each detected face in a photograph\n",
        "from matplotlib import pyplot\n",
        "from matplotlib.patches import Rectangle,Circle\n",
        "from mtcnn import MTCNN\n",
        "# from mtcnn.mtcnn import MTCNN\n",
        "# from google.colab.patches import cv2_imshow\n",
        "import zipfile\n",
        "import os\n",
        "import numpy as np\n",
        "from sklearn.preprocessing import LabelEncoder,Normalizer\n",
        "from sklearn.svm import SVC\n",
        "from random import choice\n",
        "from PIL import Image as Img\n",
        "from numpy import savez_compressed,asarray,load,expand_dims\n",
        "from keras.models import load_model\n",
        "# from keras_facenet import FaceNet\n",
        "import tensorflow as tf\n",
        "from tensorflow.keras import layers, models\n",
        "import time"
      ]
    },
    {
      "cell_type": "code",
      "execution_count": 2,
      "metadata": {
        "id": "nx_16lnMqjvF"
      },
      "outputs": [],
      "source": [
        "# class Data_Using:\n",
        "\n",
        "def unzip(zip_dir,out_dir):\n",
        "    path_folder = out_dir\n",
        "\n",
        "    zip_file_path = f'{zip_dir}'\n",
        "    with zipfile.ZipFile(zip_file_path, 'r') as zip_ref:\n",
        "        zip_ref.extractall(path_folder)\n",
        "\n",
        "\n",
        "def load_dataset(directory):\n",
        "  \t# enumerate folders, on per class\n",
        "  images = []\n",
        "  path_d = []\n",
        "  allpath = []\n",
        "  y = []\n",
        "  for subdir in os.listdir(directory):\n",
        "\n",
        "    # print(y)\n",
        "       \t# enumerate files\n",
        "    for filename in os.listdir(directory+subdir+'/'):\n",
        "      path = directory + subdir + '/' + filename\n",
        "          #labels\n",
        "      y.append(subdir)\n",
        "      path_d.append(path)\n",
        "      # print(path_d)\n",
        "  # allpath.extend(path_d)\n",
        "\n",
        "  print(path_d)\n",
        "\t  \t# store\n",
        "    # images.append(path_d)\n",
        "  return path_d , y\n",
        "\n",
        "\n",
        "def load_data_image(path_image):\n",
        "    img = cv2.imread(path_image)\n",
        "    # img = cv2.cvtColor(img,cv2.COLOR)\n",
        "    return img\n",
        "\n",
        "\n",
        "def load_data_video(path_video):\n",
        "\n",
        "    frame_list = []\n",
        "    # Load the video content using OpenCV\n",
        "    cap = cv2.VideoCapture(path_video)\n",
        "    # Loop through the frames and display them\n",
        "    while cap.isOpened():\n",
        "        ret, frame = cap.read()\n",
        "        if not ret:\n",
        "            break\n",
        "        # Display the frame\n",
        "        # cv2_imshow( frame)\n",
        "\n",
        "        frame_list.append(frame)\n",
        "\n",
        "        # Press 'q' to exit the loop\n",
        "        if cv2.waitKey(1) & 0xFF == ord('q'):\n",
        "            break\n",
        "    # Release the video capture object and close all windows\n",
        "    cap.release()\n",
        "    cv2.destroyAllWindows()\n",
        "    frame_list = np.array(frame_list)\n",
        "    return frame_list\n",
        "\n",
        "\n",
        "\n",
        "def load_data_system_camera():\n",
        "    # define a video capture object\n",
        "    vid = cv2.VideoCapture(0)\n",
        "    while(True):\n",
        "        # Capture the video frame\n",
        "        ret, frame = vid.read()\n",
        "        # Display the resulting frame\n",
        "        cv2.imshow('frame', frame)\n",
        "        # cv2.imwrite('video.mp4',frame)\n",
        "\n",
        "        if cv2.waitKey(1) & 0xFF == ord('q'):\n",
        "            break\n",
        "    # After the loop release the cap object\n",
        "    vid.release()\n",
        "    # Destroy all the windows\n",
        "    cv2.destroyAllWindows()\n",
        "\n"
      ]
    },
    {
      "cell_type": "code",
      "execution_count": 3,
      "metadata": {
        "id": "dK8LKMVIMZqv"
      },
      "outputs": [],
      "source": [
        "from functools import wraps\n",
        "import sys\n",
        "import io\n",
        "def capture_output(func):\n",
        "    \"\"\"Wrapper to capture print output.\"\"\"\n",
        "\n",
        "    @wraps(func)\n",
        "    def wrapper(*args, **kwargs):\n",
        "        old_stdout = sys.stdout\n",
        "        new_stdout = io.StringIO()\n",
        "        sys.stdout = new_stdout\n",
        "        try:\n",
        "            return func(*args, **kwargs)\n",
        "        finally:\n",
        "            sys.stdout = old_stdout\n",
        "\n",
        "    return wrapper"
      ]
    },
    {
      "cell_type": "code",
      "execution_count": 4,
      "metadata": {
        "id": "mokJz5IlSoS6"
      },
      "outputs": [],
      "source": [
        "class Face_Detection_Recognition_Video:\n",
        "\n",
        "    def __init__(self):\n",
        "      # super.__init__(self)\n",
        "      self.face_number = 0\n",
        "      self.folder_number = 0\n",
        "      self.detector = MTCNN()\n",
        "      self.w_detect = capture_output( self.detector.detect_faces)\n",
        "\n",
        "    # def preprocess(self,image):\n",
        "    #   #normalize\n",
        "    #     pixels = image.astype('float32')\n",
        "    #     pixels /= 255.0\n",
        "    #     return pixels\n",
        "\n",
        "      # draw each face separately\n",
        "    def mtcnn_model(self,data, result_list):\n",
        "        # get the context for drawing boxes\n",
        "        # ax = pyplot.gca()\n",
        "        # for result in result_list:\n",
        "        #   # get coordinates\n",
        "        #   x, y, width, height = result['box']\n",
        "        #   # create the shape\n",
        "        #   rect = Rectangle((x, y), width, height, fill=False, color='red')\n",
        "        #   # draw the box\n",
        "        #   ax.add_patch(rect)\n",
        "        #   # draw the dots\n",
        "        #   for key, value in result['keypoints'].items():\n",
        "        #   # create and draw dot\n",
        "        #     dot = Circle(value, radius=2, color='red')\n",
        "        #     ax.add_patch(dot)\n",
        "        # pyplot.show()\n",
        "        crop_face = []\n",
        "        for i in range(len(result_list)):\n",
        "          # get coordinates\n",
        "          x1, y1, width, height = result_list[i]['box']\n",
        "          x2, y2 = x1 + width, y1 + height\n",
        "          # define subplot\n",
        "          # pyplot.subplot(1, len(result_list), i+1)\n",
        "          # pyplot.axis('off')\n",
        "          # plot face\n",
        "          Face = data[y1:y2, x1:x2]\n",
        "          # resize pixels to the model size\n",
        "          Face = Img.fromarray(Face)\n",
        "          Face = Face.convert('RGB')\n",
        "          Face = Face.resize((160,160))\n",
        "          Face = asarray(Face)#,dtype=np.float32)\n",
        "          crop_face.append(Face)\n",
        "\n",
        "        return crop_face\n",
        "\n",
        "\n",
        "    def get_face(self,path):\n",
        "        pixels = path\n",
        "        pixels = asarray(pixels)\n",
        "        # detector = MTCNN()\n",
        "        # detect faces in the image\n",
        "        # w_detect = capture_output( self.detector.detect_faces)\n",
        "        # start=time.time()\n",
        "        faces_pos = self.w_detect(pixels)\n",
        "        # stop=time.time()\n",
        "        # start=time.time()\n",
        "        Faces = self.mtcnn_model(pixels, faces_pos)\n",
        "        # stop=time.time()\n",
        "        # print(stop-start)\n",
        "        # print(stop)\n",
        "\n",
        "        return Faces , faces_pos\n",
        "\n",
        "\n",
        "    def model_CNN(self):\n",
        "      model_cnn = models.Sequential([\n",
        "      layers.Conv2D(16, (3, 3), activation='relu', input_shape=(160, 160, 3)),\n",
        "      layers.MaxPooling2D((2, 2)),\n",
        "      layers.Conv2D(32, (3, 3), activation='relu'),# input_shape=(160, 160, 3)),\n",
        "      layers.MaxPooling2D((2, 2)),\n",
        "      # layers.Dropout(0.2),\n",
        "      layers.Conv2D(64, (3, 3), activation='relu'),\n",
        "      layers.MaxPooling2D((2, 2)),\n",
        "      # layers.Dropout(0.2),\n",
        "      layers.Conv2D(128, (3, 3), activation='relu'),\n",
        "      layers.MaxPooling2D((2, 2)),\n",
        "      layers.Flatten(),\n",
        "      layers.Dense(512, activation='relu'),\n",
        "      layers.Dropout(0.2),  # Dropout for regularization\n",
        "      layers.Dense(128, activation='relu'),\n",
        "      # layers.Dropout(0.2),\n",
        "      # layers.Dense(64, activation='relu'),\n",
        "      layers.Dense(9, activation='softmax')  # num_classes is the number of identities\n",
        "      ])\n",
        "\n",
        "      return model_cnn\n",
        "\n",
        "    def train_cnn_model(self,trainx,trainy,testx, testy,E_number):\n",
        "      self.model = self.model_CNN()\n",
        "      self.model.summary()\n",
        "      self.model.compile(optimizer='adam', loss='sparse_categorical_crossentropy', metrics=['accuracy'])\n",
        "      self.model.fit(trainx, trainy, epochs= E_number)\n",
        "      test_loss, test_acc = self.model.evaluate(testx, testy)\n",
        "      return self.model , test_loss, test_acc\n",
        "\n",
        "\n",
        "    def recognition_model(self,image,model):\n",
        "      random_face = np.array(image)\n",
        "      random_face = random_face.reshape(1,160,160,3)\n",
        "      w_predict = capture_output(model.predict)\n",
        "      pred = w_predict(random_face)\n",
        "      # random_face_name = out_encoder.inverse_transform([random_face_class])\n",
        "      out_encoder = LabelEncoder()\n",
        "      out_encoder.fit(trainy)\n",
        "      class_index = tf.argmax(pred, axis=1)\n",
        "      # confidence = tf.reduce_max(pred[0][random_face_class])\n",
        "      pred_name = out_encoder.inverse_transform(class_index)\n",
        "      # print('Predicted: %s' % pred_name)\n",
        "      # print('Expected: %s' % random_face_name[0])\n",
        "      # print(f\"Predicted class: {class_index}, Confidence: {confidence * 100:.2f}%\")\n",
        "      # pyplot.figure()\n",
        "      # pyplot.imshow(random_face.reshape(160,160,3))\n",
        "      # pyplot.show()\n",
        "      return pred_name\n",
        "\n",
        "    def save_faces(self,data_face):\n",
        "      folder_name = 'Faces'+f'{self.folder_number}'\n",
        "      if not os.path.isdir(folder_name):\n",
        "        os.mkdir(folder_name)\n",
        "      cv2.imwrite(folder_name + '/' + f'{self.face_number}.jpg',data_face)\n",
        "      self.face_number += 1\n",
        "\n",
        "    def face_counting(self,):\n",
        "      pass"
      ]
    },
    {
      "cell_type": "code",
      "execution_count": 5,
      "metadata": {
        "id": "XO6ub9w-QK8o"
      },
      "outputs": [],
      "source": [
        "path = 'Facedata.zip'\n",
        "output = 'Facesdata/photos'\n",
        "data = unzip(path,output)"
      ]
    },
    {
      "cell_type": "code",
      "execution_count": 6,
      "metadata": {
        "id": "tY2grl0J6dCz"
      },
      "outputs": [],
      "source": [
        "!rm -R /Users/zahrad/Downloads/Facesdata/photos/__MACOSX"
      ]
    },
    {
      "cell_type": "code",
      "execution_count": 7,
      "metadata": {
        "id": "KT1kpS3Amx-P"
      },
      "outputs": [],
      "source": [
        "!find . -name \"*.DS_Store\" -type f -delete"
      ]
    },
    {
      "cell_type": "code",
      "execution_count": 8,
      "metadata": {
        "id": "wFYuXgmBAmG7"
      },
      "outputs": [
        {
          "name": "stdout",
          "output_type": "stream",
          "text": [
            "['/Users/zahrad/Downloads/Facesdata/photos/train/zahra_dabiri/me.jpg', '/Users/zahrad/Downloads/Facesdata/photos/train/zahra_dabiri/20230511_142814.jpg', '/Users/zahrad/Downloads/Facesdata/photos/train/zahra_dabiri/20230511_143922.jpg', '/Users/zahrad/Downloads/Facesdata/photos/train/zahra_dabiri/20220609_210541.jpg', '/Users/zahrad/Downloads/Facesdata/photos/train/zahra_dabiri/20220609_210420.jpg', '/Users/zahrad/Downloads/Facesdata/photos/train/zahra_dabiri/20220609_210556.jpg', '/Users/zahrad/Downloads/Facesdata/photos/train/zahra_dabiri/20220609_210609.jpg', '/Users/zahrad/Downloads/Facesdata/photos/train/zahra_dabiri/20230511_140800.jpg', '/Users/zahrad/Downloads/Facesdata/photos/train/zahra_dabiri/20220609_212247.jpg', '/Users/zahrad/Downloads/Facesdata/photos/train/zahra_dabiri/20230511_150134.jpg', '/Users/zahrad/Downloads/Facesdata/photos/train/zahra_dabiri/20230511_145539.jpg', '/Users/zahrad/Downloads/Facesdata/photos/train/zahra_dabiri/20230511_142519.jpg', '/Users/zahrad/Downloads/Facesdata/photos/train/zahra_dabiri/20230511_145935.jpg', '/Users/zahrad/Downloads/Facesdata/photos/train/zahra_dabiri/20230511_192313.jpg', '/Users/zahrad/Downloads/Facesdata/photos/train/zahra_dabiri/IMG_9446.jpg', '/Users/zahrad/Downloads/Facesdata/photos/train/zahra_dabiri/20220609_210252.jpg', '/Users/zahrad/Downloads/Facesdata/photos/train/zahra_dabiri/20220609_212121.jpg', '/Users/zahrad/Downloads/Facesdata/photos/train/zahra_dabiri/20220609_212306.jpg', '/Users/zahrad/Downloads/Facesdata/photos/train/zahra_dabiri/20230516_175904.jpg', '/Users/zahrad/Downloads/Facesdata/photos/train/zahra_dabiri/20230511_150856.jpg', '/Users/zahrad/Downloads/Facesdata/photos/train/zahra_dabiri/20230516_175912.jpg', '/Users/zahrad/Downloads/Facesdata/photos/train/zahra_dabiri/20230511_140840.jpg', '/Users/zahrad/Downloads/Facesdata/photos/train/zahra_dabiri/20230511_150852.jpg', '/Users/zahrad/Downloads/Facesdata/photos/train/zahra_dabiri/20230516_180355.jpg', '/Users/zahrad/Downloads/Facesdata/photos/train/zahra_dabiri/20220609_212302.jpg', '/Users/zahrad/Downloads/Facesdata/photos/train/zahra_dabiri/20220609_210639.jpg', '/Users/zahrad/Downloads/Facesdata/photos/train/zahra_dabiri/20230516_175745.jpg', '/Users/zahrad/Downloads/Facesdata/photos/train/ben_afflek/download.jpeg', '/Users/zahrad/Downloads/Facesdata/photos/train/ben_afflek/httpcsvkmeuaeccjpg.jpg', '/Users/zahrad/Downloads/Facesdata/photos/train/ben_afflek/A0EktkqTURBXy8wNmZmM2M5MmQ4ZGU4YzczNjI4OGM1OGY3NGU1MjExZi5qcGVnkpUDAATNBFHNAm6TBc0EsM0CpA.jpeg', '/Users/zahrad/Downloads/Facesdata/photos/train/ben_afflek/f.elconfidencial.com_original_4ff_488_415_4ff488415c8c369d7366f5fe5af78c66.jpg', '/Users/zahrad/Downloads/Facesdata/photos/train/ben_afflek/ben-affleck.jpg', '/Users/zahrad/Downloads/Facesdata/photos/train/ben_afflek/hypnotic-2023-movie-review.jpg', '/Users/zahrad/Downloads/Facesdata/photos/train/ben_afflek/httpssmediacacheakpinimgcomxdbbdbbbececacdecdcdfjpg.jpg', '/Users/zahrad/Downloads/Facesdata/photos/train/ben_afflek/Ben Affleck.jpg', '/Users/zahrad/Downloads/Facesdata/photos/train/ben_afflek/httpsuploadwikimediaorgwikipediacommonsthumbddBenAffleckbyGageSkidmorejpgpxBenAffleckbyGageSkidmorejpg.jpg', '/Users/zahrad/Downloads/Facesdata/photos/train/ben_afflek/httpwwwaceshowbizcomimagesphotobenaffleckjpg.jpg', '/Users/zahrad/Downloads/Facesdata/photos/train/ben_afflek/benaffleck.jpg', '/Users/zahrad/Downloads/Facesdata/photos/train/ben_afflek/httpwwwfilmscoopitcgibinattoriBENAFFLECKBENAFFLECKjpg.jpg', '/Users/zahrad/Downloads/Facesdata/photos/train/ben_afflek/im-435922.jpeg', '/Users/zahrad/Downloads/Facesdata/photos/train/ben_afflek/httpssmediacacheakpinimgcomxeebdfdbaaajpg.jpg', '/Users/zahrad/Downloads/Facesdata/photos/train/ben_afflek/f.elconfidencial.com_original_908_349_fbc_908349fbc5e5e6b8d4222e223c110073.jpg', '/Users/zahrad/Downloads/Facesdata/photos/train/ben_afflek/httptrwebimgacstanetcxbdddmediasnmediajpg.jpg', '/Users/zahrad/Downloads/Facesdata/photos/train/ben_afflek/httpwwwhillsindcomstorebenjpg.jpg', '/Users/zahrad/Downloads/Facesdata/photos/train/ben_afflek/httpssmediacacheakpinimgcomxdfdfadcfeabjpg.jpg', '/Users/zahrad/Downloads/Facesdata/photos/train/ben_afflek/ben-affleck.jpeg', '/Users/zahrad/Downloads/Facesdata/photos/train/ben_afflek/httpssmediacacheakpinimgcomxeeedcacddeccccacfjpg.jpg', '/Users/zahrad/Downloads/Facesdata/photos/train/ben_afflek/httpwwwrumenewscomwpcontentuploadsbenafflekxpng.jpg', '/Users/zahrad/Downloads/Facesdata/photos/train/ben_afflek/httpwwwallposterscomimagesPostersPFjpg.jpg', '/Users/zahrad/Downloads/Facesdata/photos/train/ben_afflek/Ben_Affleck_by_Gage_Skidmore_3.jpg', '/Users/zahrad/Downloads/Facesdata/photos/train/ben_afflek/httpimagesfandangocomrImageRendererredesignstaticimgnoxportraitjpgpcpcpcimagesmasterrepositoryperformerimagespjpg.jpg', '/Users/zahrad/Downloads/Facesdata/photos/train/ben_afflek/httpssmediacacheakpinimgcomxedaedabcbefbcbabbjpg.jpg', '/Users/zahrad/Downloads/Facesdata/photos/train/ben_afflek/ben-affleck-t2656-jpg--topic-image-2656-.jpg', '/Users/zahrad/Downloads/Facesdata/photos/train/ben_afflek/DL_u519034_006.jpg', '/Users/zahrad/Downloads/Facesdata/photos/train/Jennifer_Lawrence/Jennifer-Lawrence-.jpg', '/Users/zahrad/Downloads/Facesdata/photos/train/Jennifer_Lawrence/Jennifer-Lawrance-Actress-Far-Out-Magazine-F.jpg', '/Users/zahrad/Downloads/Facesdata/photos/train/Jennifer_Lawrence/JENNIFER_LAWRENCE_61420.jpg', '/Users/zahrad/Downloads/Facesdata/photos/train/Jennifer_Lawrence/1280_c04_jlaw_021518.jpg', '/Users/zahrad/Downloads/Facesdata/photos/train/Jennifer_Lawrence/GettyImages-1491985208.jpg', '/Users/zahrad/Downloads/Facesdata/photos/train/Jennifer_Lawrence/jennifer-lawrence.jpg', '/Users/zahrad/Downloads/Facesdata/photos/train/Jennifer_Lawrence/photo_2023-05-21_18-57-00-1.jpg', '/Users/zahrad/Downloads/Facesdata/photos/train/Jennifer_Lawrence/images.jpeg', '/Users/zahrad/Downloads/Facesdata/photos/train/Jennifer_Lawrence/mgid_ao_image_mtv.jpg', '/Users/zahrad/Downloads/Facesdata/photos/train/Jennifer_Lawrence/075541662792943-nm_200.jpg', '/Users/zahrad/Downloads/Facesdata/photos/train/Jennifer_Lawrence/Jennifer-Lawrence_GettyImages-626382596.jpg', '/Users/zahrad/Downloads/Facesdata/photos/train/Jennifer_Lawrence/115716.jpg', '/Users/zahrad/Downloads/Facesdata/photos/train/Jennifer_Lawrence/5582e39becad04535699268e.jpg', '/Users/zahrad/Downloads/Facesdata/photos/train/Jennifer_Lawrence/389416_v9_bc.jpg', '/Users/zahrad/Downloads/Facesdata/photos/train/Jennifer_Lawrence/jennifer-lawrance-main-photo.jpg', '/Users/zahrad/Downloads/Facesdata/photos/train/Jennifer_Lawrence/jennifer-lawrence-photos-4.jpg', '/Users/zahrad/Downloads/Facesdata/photos/train/Jennifer_Lawrence/hunger-games-mockingjay-part-2.jpg', '/Users/zahrad/Downloads/Facesdata/photos/train/Jennifer_Lawrence/jennifer-lawrence-gettyimages-1243141810.jpg', '/Users/zahrad/Downloads/Facesdata/photos/train/Jennifer_Lawrence/ac-image-L81662206916XI.jpeg', '/Users/zahrad/Downloads/Facesdata/photos/train/Jennifer_Lawrence/93c2fad46d3b-jennifer-lawrence.jpg.webp', '/Users/zahrad/Downloads/Facesdata/photos/train/Jennifer_Lawrence/┘ä╪¿╪º╪│_┘ç╪º█î+╪«╪º╪╡+╪»█î┘ê╪▒+╪¿╪▒+╪¬┘å+╪¼┘å█î┘ü╪▒+┘ä╪º╪▒┘å╪│.jpg', '/Users/zahrad/Downloads/Facesdata/photos/train/Jennifer_Lawrence/jennifer%20lawrence%202023.jpg', '/Users/zahrad/Downloads/Facesdata/photos/train/Jennifer_Lawrence/1519042976-asa1.jpg', '/Users/zahrad/Downloads/Facesdata/photos/train/Jennifer_Lawrence/nody--1661664010.jpg', '/Users/zahrad/Downloads/Facesdata/photos/train/Jennifer_Lawrence/1f50d273357157989f413319a8fe4580.jpg', '/Users/zahrad/Downloads/Facesdata/photos/train/Jennifer_Lawrence/71726003007.jpg', '/Users/zahrad/Downloads/Facesdata/photos/train/Jennifer_Lawrence/1754924368.jpg', '/Users/zahrad/Downloads/Facesdata/photos/train/madonna/httpmediavoguecomrwblondesdarkbrowsmadonnajpg.jpg', '/Users/zahrad/Downloads/Facesdata/photos/train/madonna/httpssmediacacheakpinimgcomxfeebfdccajpg.jpg', '/Users/zahrad/Downloads/Facesdata/photos/train/madonna/httpssmediacacheakpinimgcomxaaeaaeecccaedfebdbjpg.jpg', '/Users/zahrad/Downloads/Facesdata/photos/train/madonna/364041.jpg', '/Users/zahrad/Downloads/Facesdata/photos/train/madonna/httpresizeparismatchladmediafrrffffffcentermiddleimgvarnewsstorageimagesparismatchpeopleazmadonnafreFRMadonnajpg.jpg', '/Users/zahrad/Downloads/Facesdata/photos/train/madonna/httpwwwbeastiemaniacomwhoismadonnamadonnajpg.jpg', '/Users/zahrad/Downloads/Facesdata/photos/train/madonna/httpiamediaimdbcomimagesMMVBMTANDQNTAxNDVeQTJeQWpwZBbWUMDIMjQOTYVUXCRALjpg.jpg', '/Users/zahrad/Downloads/Facesdata/photos/train/madonna/httpssmediacacheakpinimgcomxafafedebcbjpg.jpg', '/Users/zahrad/Downloads/Facesdata/photos/train/madonna/episode-4192-pictured-singer-madonna-during-an-interview-on-news-photo-1696434990.jpg', '/Users/zahrad/Downloads/Facesdata/photos/train/madonna/0x0.jpg', '/Users/zahrad/Downloads/Facesdata/photos/train/madonna/madonnao2171023_97_of_133_53269593787_cropped.jpg', '/Users/zahrad/Downloads/Facesdata/photos/train/madonna/httpsuploadwikimediaorgwikipediacommonsthumbaaMadonnaatthepremiereofIAmBecauseWeArejpgpxMadonnaatthepremiereofIAmBecauseWeArejpg.jpg', '/Users/zahrad/Downloads/Facesdata/photos/train/madonna/httpssmediacacheakpinimgcomxffabffabbbcfbceaedjpg.jpg', '/Users/zahrad/Downloads/Facesdata/photos/train/madonna/nf1BZoO9l0OxvpaMNSMJqA.jpg', '/Users/zahrad/Downloads/Facesdata/photos/train/madonna/httpsuploadwikimediaorgwikipediacommonsMadonnathAnnualGoldenGlobesAwardscroppedjpg.jpg', '/Users/zahrad/Downloads/Facesdata/photos/train/madonna/httpssmediacacheakpinimgcomxdcfdcfedfaedadjpg.jpg', '/Users/zahrad/Downloads/Facesdata/photos/train/madonna/httpimagegaladevcmseamadonnaprivatdetektivsquaretopsquarejpgv.jpg', '/Users/zahrad/Downloads/Facesdata/photos/train/madonna/httpwwwetonlinecomphotomadonnabdayjpg.jpg', '/Users/zahrad/Downloads/Facesdata/photos/train/madonna/madonna-3-640x360.jpg', '/Users/zahrad/Downloads/Facesdata/photos/train/madonna/profile_original.jpg', '/Users/zahrad/Downloads/Facesdata/photos/train/madonna/httpwwwblackdogfilmscomwordpresswpcontentuploadsmadonnacelebrationxjpg.jpg', '/Users/zahrad/Downloads/Facesdata/photos/train/madonna/madonna-wat-de-metoo-beweging-zegt-vertel-ik-al-mijn-hele-leven.jpeg', '/Users/zahrad/Downloads/Facesdata/photos/train/madonna/httpuploadwikimediaorgwikipediacommonsthumbaMadonnaRotterdamjpgpxMadonnaRotterdamjpg.jpg', '/Users/zahrad/Downloads/Facesdata/photos/train/madonna/httpssmediacacheakpinimgcomxffecfafddjpg.jpg', '/Users/zahrad/Downloads/Facesdata/photos/train/madonna/httpimgclosermagfrvarclosermagstorageimagesactupeoplebiodestarsmadonnamadonnafreFRmadonnaexactxljpg.jpg', '/Users/zahrad/Downloads/Facesdata/photos/train/madonna/httpssmediacacheakpinimgcomxffeabacaaejpg.jpg', '/Users/zahrad/Downloads/Facesdata/photos/train/madonna/httpssvagalumecommadonnaimagesmadonnajpg.jpg', '/Users/zahrad/Downloads/Facesdata/photos/train/elton_john/httpsdfrpwlycscloudfrontnetdeltonjohnjpg.jpg', '/Users/zahrad/Downloads/Facesdata/photos/train/elton_john/httpiamediaimdbcomimagesMMVBMTAxNDUMzUwOTdeQTJeQWpwZBbWUMDUOTAyNTIVUXCRALjpg.jpg', '/Users/zahrad/Downloads/Facesdata/photos/train/elton_john/httpwwwjohnpauljonesarenacomeventimagesEltonCalendarVjpg.jpg', '/Users/zahrad/Downloads/Facesdata/photos/train/elton_john/eje-carousel-2.jpg', '/Users/zahrad/Downloads/Facesdata/photos/train/elton_john/4LBG2VI_elton_jpg.jpeg', '/Users/zahrad/Downloads/Facesdata/photos/train/elton_john/httpssmediacacheakpinimgcomxfcfcbaeaeddabbjpg.jpg', '/Users/zahrad/Downloads/Facesdata/photos/train/elton_john/3543.jpg', '/Users/zahrad/Downloads/Facesdata/photos/train/elton_john/httpftqncomymusicLxZeltonjohnjpg.jpg', '/Users/zahrad/Downloads/Facesdata/photos/train/elton_john/medias_2018_03_abaca-80512-17-copie-2_5ab3c99690098.jpg', '/Users/zahrad/Downloads/Facesdata/photos/train/elton_john/httpmediacacheecpinimgcomxffeffbcefjpg.jpg', '/Users/zahrad/Downloads/Facesdata/photos/train/elton_john/Elton-John-Credit-Gregg-Kemp-press-2021-billboard-1548-1630509904.jpg', '/Users/zahrad/Downloads/Facesdata/photos/train/elton_john/48a8e4fd3cf2c634342dd35eb8f2440dY29udGVudHNlYXJjaGFwaSwxNjgwMTEyMzc2-2.71538479.jpg', '/Users/zahrad/Downloads/Facesdata/photos/train/elton_john/NINTCHDBPICT000005379202.jpg', '/Users/zahrad/Downloads/Facesdata/photos/train/elton_john/httpimggalpmdstaticnetfithttpAFFwwwEgalaEfrFvarFgalFstorageFimagesFmediaFmultiuploaddufevrierFeltonjohnFfreFRFeltonjohnEjpgxqualityeltonjohnjpg.jpg', '/Users/zahrad/Downloads/Facesdata/photos/train/elton_john/httpsticketmnettmenusdamabbacdaebeafdbbCUSTOMjpg.jpg', '/Users/zahrad/Downloads/Facesdata/photos/train/elton_john/httpsuploadwikimediaorgwikipediacommonsthumbEltonJohninsjpgpxEltonJohninsjpg.jpg', '/Users/zahrad/Downloads/Facesdata/photos/train/elton_john/httpimagesmtvcomurimgidfiledocrootvhcomsitewideflipbooksimgdailyjpgenlargefalsemattetruematteColorblackquality.jpg', '/Users/zahrad/Downloads/Facesdata/photos/train/elton_john/httpspmctvlinefileswordpresscomeltonjohnjpg.jpg', '/Users/zahrad/Downloads/Facesdata/photos/train/elton_john/httpwwwlautdeEltonJohneltonjohnjpg.jpg', '/Users/zahrad/Downloads/Facesdata/photos/train/elton_john/httpssmediacacheakpinimgcomxfefdacfbfdeadajpg.jpg', '/Users/zahrad/Downloads/Facesdata/photos/train/elton_john/httpwwwdeadlinecomvimgnetwpcontentuploadseltonjpg.jpg', '/Users/zahrad/Downloads/Facesdata/photos/train/elton_john/detail.jpg', '/Users/zahrad/Downloads/Facesdata/photos/train/elton_john/httpmediapopsugarassetscomfilescbffewltonjpg.jpg', '/Users/zahrad/Downloads/Facesdata/photos/train/elton_john/Elton_John_2022.jpg', '/Users/zahrad/Downloads/Facesdata/photos/train/elton_john/httpwwweonlinecomresizewwweonlinecomeolimagesEntireSitersxEltonJohnJRjpg.jpg', '/Users/zahrad/Downloads/Facesdata/photos/train/elton_john/Elton-John.jpg', '/Users/zahrad/Downloads/Facesdata/photos/train/elton_john/httpssmediacacheakpinimgcomxfecfecaefaadfebejpg.jpg', '/Users/zahrad/Downloads/Facesdata/photos/train/mindy_kaling/httpsimagesnasslimagesamazoncomimagesIAQdwKvFILUXjpg.jpg', '/Users/zahrad/Downloads/Facesdata/photos/train/mindy_kaling/httpssmediacacheakpinimgcomxafaffbbbbdbcbdddjpg.jpg', '/Users/zahrad/Downloads/Facesdata/photos/train/mindy_kaling/httpwwwimpropercomimagesuploadsusercontentimagesSoroffMindyjpg.jpg', '/Users/zahrad/Downloads/Facesdata/photos/train/mindy_kaling/httpgraphicsnytimescomimagesmagazinekalingkalingarticleInlinejpg.jpg', '/Users/zahrad/Downloads/Facesdata/photos/train/mindy_kaling/httpimagesnymagcomimagesdailymindykalingxjpg.jpg', '/Users/zahrad/Downloads/Facesdata/photos/train/mindy_kaling/ap_20029317646819_wide-71cfcd10a80c28e322fdc23ecda74d60fc6a0b27-s1100-c50.jpg', '/Users/zahrad/Downloads/Facesdata/photos/train/mindy_kaling/httpwwweonlinecomeolimagesEntireSiteregKalingCancermhjpg.jpg', '/Users/zahrad/Downloads/Facesdata/photos/train/mindy_kaling/httppixelnymagcomimgsfashiondailymindykalingwhjpg.jpg', '/Users/zahrad/Downloads/Facesdata/photos/train/mindy_kaling/httpsamazonawscomkidzworldphotoimagesbccdddaaadgallerymindykalinggalleryjpg.jpg', '/Users/zahrad/Downloads/Facesdata/photos/train/mindy_kaling/httpssmediacacheakpinimgcomxcccccddbbfedabjpg.jpg', '/Users/zahrad/Downloads/Facesdata/photos/train/mindy_kaling/httpsuploadwikimediaorgwikipediacommonsthumbMindyBKalingBPaleyFestBNewBYorkBBMindyBIqZgUWvbljpgpxMindyBKalingBPaleyFestBNewBYorkBBMindyBIqZgUWvbljpg.jpg', '/Users/zahrad/Downloads/Facesdata/photos/train/mindy_kaling/httpssmediacacheakpinimgcomxbabafeacbaaacabffjpg.jpg', '/Users/zahrad/Downloads/Facesdata/photos/train/mindy_kaling/httpssmediacacheakpinimgcomxccccdabeaadjpg.jpg', '/Users/zahrad/Downloads/Facesdata/photos/train/mindy_kaling/566050-mindy-kaling-a-los-angeles-2022-990x0-2.jpg', '/Users/zahrad/Downloads/Facesdata/photos/train/mindy_kaling/httpwwwbooksforbetterlivingcomwpcontentuploadsMindyKalingAuthorPhotojpg.jpg', '/Users/zahrad/Downloads/Facesdata/photos/train/mindy_kaling/httpsimgbuzzfeedcombuzzfeedstaticstaticcampaignimageswebdradorableetsyitemsallmindykalingfansneedbigjpg.jpg', '/Users/zahrad/Downloads/Facesdata/photos/train/mindy_kaling/httpmediaonsugarcomfilesbabaaaaaMindyInterviewxxxlargejpg.jpg', '/Users/zahrad/Downloads/Facesdata/photos/train/mindy_kaling/netflix-escala-protagonista-da-semi-autobiografia-de-mindy-kaling-1562773250132_v2_1x1.jpg', '/Users/zahrad/Downloads/Facesdata/photos/train/mindy_kaling/httpwwwpictureszimbiocomfpMindyKalingfBgaONVFDFmjpg.jpg', '/Users/zahrad/Downloads/Facesdata/photos/train/mindy_kaling/httpwwwadweekcomfilesimagecachenodeinlinemindykalingprofilehedjpg.jpg', '/Users/zahrad/Downloads/Facesdata/photos/train/mindy_kaling/intro-1670451336.jpg', '/Users/zahrad/Downloads/Facesdata/photos/train/mindy_kaling/httpgonetworthcomwpcontentuploadsthumbsjpg.jpg', '/Users/zahrad/Downloads/Facesdata/photos/train/mindy_kaling/httpssmediacacheakpinimgcomxbbfcbdedfbfdbjpg.jpg', '/Users/zahrad/Downloads/Facesdata/photos/train/mindy_kaling/httpwwwpictureszimbiocomgiMindyKalingLkvEhTwDeJmjpg.jpg', '/Users/zahrad/Downloads/Facesdata/photos/train/mindy_kaling/httpssmediacacheakpinimgcomxededbebccdajpg.jpg', '/Users/zahrad/Downloads/Facesdata/photos/train/mindy_kaling/httpssmediacacheakpinimgcomxeedccadejpg.jpg', '/Users/zahrad/Downloads/Facesdata/photos/train/mindy_kaling/MV5BNzQ2OTUzNDU1MF5BMl5BanBnXkFtZTcwODQ2MTYyNw@@._V1_.jpg', '/Users/zahrad/Downloads/Facesdata/photos/train/jerry_seinfeld/download.jpeg', '/Users/zahrad/Downloads/Facesdata/photos/train/jerry_seinfeld/httpimgthedrumcomsfspublicnewstmpjerryseinfeldjpg.jpg', '/Users/zahrad/Downloads/Facesdata/photos/train/jerry_seinfeld/httpsuswestamazonawscomblogsprodmediausuploadsJerrySeinfeldkidsxjpg.jpg', '/Users/zahrad/Downloads/Facesdata/photos/train/jerry_seinfeld/httpswwwticketscomuploadsartistsjerryseinfeldbilletsjpg.jpg', '/Users/zahrad/Downloads/Facesdata/photos/train/jerry_seinfeld/shutterstock_181658873_By_Everett_Collection_y2bkma.jpg', '/Users/zahrad/Downloads/Facesdata/photos/train/jerry_seinfeld/Seinfeld.jpg', '/Users/zahrad/Downloads/Facesdata/photos/train/jerry_seinfeld/httpwwwnndbcompeoplejerryseinfeldaujpg.jpg', '/Users/zahrad/Downloads/Facesdata/photos/train/jerry_seinfeld/httpwwwslatecomcontentdamslateblogsbrowbeatseinfeldjpgCROParticlemediumjpg.jpg', '/Users/zahrad/Downloads/Facesdata/photos/train/jerry_seinfeld/httpsmedialivenationcomartiststapjpg.jpg', '/Users/zahrad/Downloads/Facesdata/photos/train/jerry_seinfeld/httpwwwpictureszimbiocomgpJerrySeinfeldJessicaSeinfeldmarriedBczSipMdNMQljpg.jpg', '/Users/zahrad/Downloads/Facesdata/photos/train/jerry_seinfeld/httpsticketmnettmenusdbimagesajpg.jpg', '/Users/zahrad/Downloads/Facesdata/photos/train/jerry_seinfeld/httpmediapopsugarassetscomfilesusersxlargejpg.jpg', '/Users/zahrad/Downloads/Facesdata/photos/train/jerry_seinfeld/httpimgtimeincnetpeopleinewsjerryseinfeldjpg.jpg', '/Users/zahrad/Downloads/Facesdata/photos/train/jerry_seinfeld/httpwwwpsychiatrictimescomsitesdefaultfilesimagesmediaPTMofficSeinfeldjpg.jpg', '/Users/zahrad/Downloads/Facesdata/photos/train/jerry_seinfeld/httpgraphicsnytimescomimagessectionmoviesfilmographyWireImagejpg.jpg', '/Users/zahrad/Downloads/Facesdata/photos/train/jerry_seinfeld/httpwwweonlinecomresizewwweonlinecomeolimagesEntireSitersxjerryseinfeldjulialouisdreyfusjwjpg.jpg', '/Users/zahrad/Downloads/Facesdata/photos/train/jerry_seinfeld/is_jerry_seinfeld_a_good_actor.jpg', '/Users/zahrad/Downloads/Facesdata/photos/train/jerry_seinfeld/httpstatictherichestimagescomcdncwpcontentuploadsJerrySeinfeldjpg.jpg', '/Users/zahrad/Downloads/Facesdata/photos/train/jerry_seinfeld/httpwwwwatchidcomsitesdefaultfilesuploadsightingBreitlingwatchJerrySeinfeldjpg.jpg', '/Users/zahrad/Downloads/Facesdata/photos/train/jerry_seinfeld/AK_JERRY_COMP.jpg', '/Users/zahrad/Downloads/Facesdata/photos/train/jerry_seinfeld/httpimagescontactmusiccomnewsimagesjerryseinfeldjpg.jpg', '/Users/zahrad/Downloads/Facesdata/photos/train/jerry_seinfeld/httpimagesrottentomatoescomimagesspotlightsnewsjerryseinfeldjpg.jpg', '/Users/zahrad/Downloads/Facesdata/photos/train/jerry_seinfeld/jerry.jpg', '/Users/zahrad/Downloads/Facesdata/photos/train/jerry_seinfeld/httpsrobertaccetturacomwpcontentuploadsjerryseinfeldheadshotjpg.jpg', '/Users/zahrad/Downloads/Facesdata/photos/train/jerry_seinfeld/httppfodcompchannelslegacyprofilejerryseinfeldpodcastjpg.jpg', '/Users/zahrad/Downloads/Facesdata/photos/train/jerry_seinfeld/httpikinjaimgcomgawkermediaimageuploadsWmIuhdsrcedidjpgjpg.jpg', '/Users/zahrad/Downloads/Facesdata/photos/train/jerry_seinfeld/httpsuploadwikimediaorgwikipediacommonsthumbbJerrySeinfeldjpgpxJerrySeinfeldjpg.jpg', '/Users/zahrad/Downloads/Facesdata/photos/train/Johnny_Depp/R+(1).jpg', '/Users/zahrad/Downloads/Facesdata/photos/train/Johnny_Depp/Aset_Mewah_Johnny_Depp.jpg', '/Users/zahrad/Downloads/Facesdata/photos/train/Johnny_Depp/Schermata-2021-06-25-alle-16.32.27.jpg', '/Users/zahrad/Downloads/Facesdata/photos/train/Johnny_Depp/Johnny-Depp-nouveau-visage-d-un-parfum-Dior.jpg', '/Users/zahrad/Downloads/Facesdata/photos/train/Johnny_Depp/johnny2.jpg', '/Users/zahrad/Downloads/Facesdata/photos/train/Johnny_Depp/107-Johnny-Depp-1200x834.jpg.jpg', '/Users/zahrad/Downloads/Facesdata/photos/train/Johnny_Depp/images-19-_copy_1024x683.jpeg', '/Users/zahrad/Downloads/Facesdata/photos/train/Johnny_Depp/Johnny-Depp-Actor-Far-Out-Magazine-02-F.jpg', '/Users/zahrad/Downloads/Facesdata/photos/train/Johnny_Depp/Johnny-Depp-690x362.jpg', '/Users/zahrad/Downloads/Facesdata/photos/train/Johnny_Depp/johnny-depp-may-2016-billboard-1548.jpg', '/Users/zahrad/Downloads/Facesdata/photos/train/Johnny_Depp/n00163282-r-b-002.jpg', '/Users/zahrad/Downloads/Facesdata/photos/train/Johnny_Depp/6025o7e8m.jpg', '/Users/zahrad/Downloads/Facesdata/photos/train/Johnny_Depp/johnny-depp-niebawem-moze-zostac-bankurtem.jpeg', '/Users/zahrad/Downloads/Facesdata/photos/train/Johnny_Depp/230px-Johnny_Depp_Paris_2009.jpg', '/Users/zahrad/Downloads/Facesdata/photos/train/Johnny_Depp/resized_267906_488.jpg', '/Users/zahrad/Downloads/Facesdata/photos/train/Johnny_Depp/Biography-of-Johnny-Depp-5.jpg', '/Users/zahrad/Downloads/Facesdata/photos/train/Johnny_Depp/actor-johnny-depp-attends-the-jeanne-du-barry-photocall-at-news-photo-1685634329.jpg', '/Users/zahrad/Downloads/Facesdata/photos/train/Johnny_Depp/johnny-depp.jpg', '/Users/zahrad/Downloads/Facesdata/photos/train/Johnny_Depp/4d428bdf3e4a32dfc3b8887c586f05a6f4-09-johnny-depp.rsquare.w400.jpg', '/Users/zahrad/Downloads/Facesdata/photos/train/Johnny_Depp/depp-2009.jpg', '/Users/zahrad/Downloads/Facesdata/photos/train/Johnny_Depp/4511188.jpg', '/Users/zahrad/Downloads/Facesdata/photos/train/Johnny_Depp/GettyImages-1235985536.jpg', '/Users/zahrad/Downloads/Facesdata/photos/train/Johnny_Depp/1640991.jpg', '/Users/zahrad/Downloads/Facesdata/photos/train/Johnny_Depp/orginal.jpg', '/Users/zahrad/Downloads/Facesdata/photos/train/Johnny_Depp/filme-jadide-johnny-depp-5.jpg', '/Users/zahrad/Downloads/Facesdata/photos/train/Johnny_Depp/full.jpg', '/Users/zahrad/Downloads/Facesdata/photos/train/Johnny_Depp/DL_a00127779_009-RdsYQnIvNB123NyhbaXXXjK-1200x840@abc.jpg', '/Users/zahrad/Downloads/Facesdata/photos/train/Shahab_Hossine/1eb2fb66-9296-400f-96ce-c2de990dfde8.jpeg', '/Users/zahrad/Downloads/Facesdata/photos/train/Shahab_Hossine/Shahab-Hosseini.jpg', '/Users/zahrad/Downloads/Facesdata/photos/train/Shahab_Hossine/hqdefault.jpg', '/Users/zahrad/Downloads/Facesdata/photos/train/Shahab_Hossine/EFEBE5DF-C658-4393-A38E-D338635710FB.jpg', '/Users/zahrad/Downloads/Facesdata/photos/train/Shahab_Hossine/a29e94d903b20f4a8e0407cd12c8b857.jpg', '/Users/zahrad/Downloads/Facesdata/photos/train/Shahab_Hossine/artworks-000032049038-0yj38p-t500x500.jpg', '/Users/zahrad/Downloads/Facesdata/photos/train/Shahab_Hossine/shabhosiniekranfilm.jpg', '/Users/zahrad/Downloads/Facesdata/photos/train/Shahab_Hossine/908999_478.jpg', '/Users/zahrad/Downloads/Facesdata/photos/train/Shahab_Hossine/392bdf11c791460c8dffac4457138d73.jpg', '/Users/zahrad/Downloads/Facesdata/photos/train/Shahab_Hossine/shahabhosseniprofile.jpg', '/Users/zahrad/Downloads/Facesdata/photos/train/Shahab_Hossine/mCkSli6mESS1.jpg', '/Users/zahrad/Downloads/Facesdata/photos/train/Shahab_Hossine/╪┤┘ç╪º╪¿+╪¡╪│█î┘å█î (1).jpg', '/Users/zahrad/Downloads/Facesdata/photos/train/Shahab_Hossine/╪┤┘ç╪º╪¿+╪¡╪│█î┘å█î (2).jpg', '/Users/zahrad/Downloads/Facesdata/photos/train/Shahab_Hossine/4880697.jpg', '/Users/zahrad/Downloads/Facesdata/photos/train/Shahab_Hossine/ssh.jpg', '/Users/zahrad/Downloads/Facesdata/photos/train/Shahab_Hossine/ebd8e151bfffa14d7170eac192ce7324.jpg', '/Users/zahrad/Downloads/Facesdata/photos/train/Shahab_Hossine/image-w856.jpg', '/Users/zahrad/Downloads/Facesdata/photos/train/Shahab_Hossine/5c3fb74d746a34a61f4db00ac2e38781.jpg', '/Users/zahrad/Downloads/Facesdata/photos/train/Shahab_Hossine/19202_768.jpg', '/Users/zahrad/Downloads/Facesdata/photos/train/Shahab_Hossine/ac-image-5O1570512571fs.jpeg', '/Users/zahrad/Downloads/Facesdata/photos/train/Shahab_Hossine/acd8bbc0f7f3452d2182edd2318c0098.jpg', '/Users/zahrad/Downloads/Facesdata/photos/train/Shahab_Hossine/2f5e809fc4764287f33d50f541192dd3.jpg', '/Users/zahrad/Downloads/Facesdata/photos/train/Shahab_Hossine/╪┤┘ç╪º╪¿+╪¡╪│█î┘å█î.jpg', '/Users/zahrad/Downloads/Facesdata/photos/train/Shahab_Hossine/67d90f963e7718638bace0cbd4684b1331a21320bd43e8a32eb95644931e3a27._SX300_.jpg', '/Users/zahrad/Downloads/Facesdata/photos/train/Shahab_Hossine/421.jpg', '/Users/zahrad/Downloads/Facesdata/photos/train/Shahab_Hossine/image.jpg', '/Users/zahrad/Downloads/Facesdata/photos/train/Shahab_Hossine/1742718888-talab-ir.jpg']\n",
            "243 243\n",
            "WARNING:tensorflow:5 out of the last 14 calls to <function Model.make_predict_function.<locals>.predict_function at 0x29b0b3880> triggered tf.function retracing. Tracing is expensive and the excessive number of tracings could be due to (1) creating @tf.function repeatedly in a loop, (2) passing tensors with different shapes, (3) passing Python objects instead of tensors. For (1), please define your @tf.function outside of the loop. For (2), @tf.function has reduce_retracing=True option that can avoid unnecessary retracing. For (3), please refer to https://www.tensorflow.org/guide/function#controlling_retracing and https://www.tensorflow.org/api_docs/python/tf/function for  more details.\n",
            "WARNING:tensorflow:5 out of the last 17 calls to <function Model.make_predict_function.<locals>.predict_function at 0x2a1c60e00> triggered tf.function retracing. Tracing is expensive and the excessive number of tracings could be due to (1) creating @tf.function repeatedly in a loop, (2) passing tensors with different shapes, (3) passing Python objects instead of tensors. For (1), please define your @tf.function outside of the loop. For (2), @tf.function has reduce_retracing=True option that can avoid unnecessary retracing. For (3), please refer to https://www.tensorflow.org/guide/function#controlling_retracing and https://www.tensorflow.org/api_docs/python/tf/function for  more details.\n",
            "['//Users/zahrad/Downloads/Facesdata/photos/val/zahra_dabiri/20230511_151329.jpg', '//Users/zahrad/Downloads/Facesdata/photos/val/zahra_dabiri/20230516_180338.jpg', '//Users/zahrad/Downloads/Facesdata/photos/val/zahra_dabiri/20220609_210634.jpg', '//Users/zahrad/Downloads/Facesdata/photos/val/zahra_dabiri/20220609_210651.jpg', '//Users/zahrad/Downloads/Facesdata/photos/val/zahra_dabiri/20230516_180153.jpg', '//Users/zahrad/Downloads/Facesdata/photos/val/ben_afflek/httpcsvkmeuadecafjpg.jpg', '//Users/zahrad/Downloads/Facesdata/photos/val/ben_afflek/httpcsvkmeuaafdfjpg.jpg', '//Users/zahrad/Downloads/Facesdata/photos/val/ben_afflek/httpafilesbiographycomimageuploadcfillcssrgbdprgfacehqwMTENDgMDUODczNDcNTcjpg.jpg', '//Users/zahrad/Downloads/Facesdata/photos/val/ben_afflek/httpbpblogspotcomedLMjVpRGkSWexgsXjkNIAAAAAAAADWgFFtAUqBlhAsjpg.jpg', '//Users/zahrad/Downloads/Facesdata/photos/val/ben_afflek/httpabsolumentgratuitfreefrimagesbenaffleckjpg.jpg', '//Users/zahrad/Downloads/Facesdata/photos/val/Jennifer_Lawrence/hbz-jlaw-transformation-2009-458153475.jpg', '//Users/zahrad/Downloads/Facesdata/photos/val/Jennifer_Lawrence/inspired-2015-10-jennifer-lawrence-comic-con-san-diego-2015-getty-main.jpg', '//Users/zahrad/Downloads/Facesdata/photos/val/Jennifer_Lawrence/s-l1200.jpg', '//Users/zahrad/Downloads/Facesdata/photos/val/Jennifer_Lawrence/13LAWRENCE1-articleLarge-v2.jpg', '//Users/zahrad/Downloads/Facesdata/photos/val/Jennifer_Lawrence/75fb60e649bf7581c168e902490963e7.jpg', '//Users/zahrad/Downloads/Facesdata/photos/val/madonna/httpassetsrollingstonecomassetsarticlemadonnadavidbowiechangedthecourseofmylifeforeversmallsquarexmadonnabowiejpg.jpg', '//Users/zahrad/Downloads/Facesdata/photos/val/madonna/httpcdnfuncheapcomwpcontentuploadsVOGUEjpg.jpg', '//Users/zahrad/Downloads/Facesdata/photos/val/madonna/httpcdncdnjustjaredcomwpcontentuploadsheadlinesmadonnatalksparisattackstearsjpg.jpg', '//Users/zahrad/Downloads/Facesdata/photos/val/madonna/httpassetsrollingstonecomassetsimagesalbumreviewaffaceabdcccaeedjpg.jpg', '//Users/zahrad/Downloads/Facesdata/photos/val/madonna/httpecximagesamazoncomimagesIfmaBKWLACULSRjpg.jpg', '//Users/zahrad/Downloads/Facesdata/photos/val/elton_john/httpcdncdnjustjaredcomwpcontentuploadsheadlineseltonjohnstillstandingbrooklynnewyearsjpg.jpg', '//Users/zahrad/Downloads/Facesdata/photos/val/elton_john/httpcdncdnjustjaredcomwpcontentuploadsheadlineseltonjohnsupportsbrucejennerstransitiontowomanjpg.jpg', '//Users/zahrad/Downloads/Facesdata/photos/val/elton_john/httpafilesbiographycomimageuploadcfillcssrgbdprgfacehqwMTEODAOTcxNjcMjczMjkzjpg.jpg', '//Users/zahrad/Downloads/Facesdata/photos/val/elton_john/httpcdnlyricssongonlyricsnetwpcontentuploadsEltonJohnDiscographyCDreleasesjpg.jpg', '//Users/zahrad/Downloads/Facesdata/photos/val/elton_john/httpcdncdnjustjaredcomwpcontentuploadsheadlineseltonjohnemmysperformancewatchnowjpg.jpg', '//Users/zahrad/Downloads/Facesdata/photos/val/mindy_kaling/httpdbrbzkkbdsdcloudfrontnetwpcontentuploadsMindyKalingjpg.jpg', '//Users/zahrad/Downloads/Facesdata/photos/val/mindy_kaling/httpafilesbiographycomimageuploadcfillcssrgbdprgfacehqwMTIOTcwODQNTUzNjQMzcjpg.jpg', '//Users/zahrad/Downloads/Facesdata/photos/val/mindy_kaling/httpcdnpastemagazinecomwwwarticlesmindykalingndbookjpg.jpg', '//Users/zahrad/Downloads/Facesdata/photos/val/mindy_kaling/httpcdncdnjustjaredcomwpcontentuploadsheadlinesmindykalingcomedypilotjpg.jpg', '//Users/zahrad/Downloads/Facesdata/photos/val/mindy_kaling/httpcdnpastemagazinecomwwwarticlesmindyprojectjpg.jpg', '//Users/zahrad/Downloads/Facesdata/photos/val/jerry_seinfeld/httpblognjcomentertainmentimpactcelebritiesmediumjerrybjpg.jpg', '//Users/zahrad/Downloads/Facesdata/photos/val/jerry_seinfeld/httpafilesbiographycomimageuploadcfillcssrgbdprgfacehqwMTIwNjANjMMDINzIxNjcjpg.jpg', '//Users/zahrad/Downloads/Facesdata/photos/val/jerry_seinfeld/httpaurorasblogcomwpcontentuploadsjerryseinfeldpublicityshotjpg.jpg', '//Users/zahrad/Downloads/Facesdata/photos/val/jerry_seinfeld/httpcdncdnjustjaredcomwpcontentuploadsheadlinesjerryseinfeldmakesbrianwilliamsjokejpg.jpg', '//Users/zahrad/Downloads/Facesdata/photos/val/jerry_seinfeld/httpcdnssninsidercomwpcontentuploadsjerryseinfeldxjpg.jpg', '//Users/zahrad/Downloads/Facesdata/photos/val/Johnny_Depp/16762924786991.jpg', '//Users/zahrad/Downloads/Facesdata/photos/val/Johnny_Depp/1029717338_1648_0_4928_3280_1920x0_80_0_0_c68dd740b1069b51933666ac245cf2c9.jpg', '//Users/zahrad/Downloads/Facesdata/photos/val/Johnny_Depp/14-verdades-sobre-Johnny-Depp.jpg', '//Users/zahrad/Downloads/Facesdata/photos/val/Johnny_Depp/actor-johnny-depp-attends-the-premiere-of-disneys-pirates-news-photo-1652691164.jpg', '//Users/zahrad/Downloads/Facesdata/photos/val/Johnny_Depp/2765275_82980140d8fcf21.jpg', '//Users/zahrad/Downloads/Facesdata/photos/val/Shahab_Hossine/Biography-of-Shahab-Hosseini-9.jpg', '//Users/zahrad/Downloads/Facesdata/photos/val/Shahab_Hossine/411.jpg', '//Users/zahrad/Downloads/Facesdata/photos/val/Shahab_Hossine/1589114073.jpg', '//Users/zahrad/Downloads/Facesdata/photos/val/Shahab_Hossine/33169_400.jpg', '//Users/zahrad/Downloads/Facesdata/photos/val/Shahab_Hossine/sha.jpg']\n",
            "45 45\n"
          ]
        }
      ],
      "source": [
        "# Load dataset\n",
        "\n",
        "def faces_dataset(directory):\n",
        "  X = list()\n",
        "  newlabels = list()\n",
        "  files , labels = load_dataset(directory)\n",
        "  print(len(files),len(labels))\n",
        "  for fil,label in zip(files,labels):\n",
        "    facedetect = Face_Detection_Recognition_Video()\n",
        "    img = load_data_image(fil)\n",
        "    if not type(img) == type(None):\n",
        "     faces , pos = facedetect.get_face(img)\n",
        "    if not len(faces)== 0:\n",
        "      X.append(faces[0])\n",
        "      newlabels.append(label)\n",
        "\n",
        "  return asarray(X), asarray(newlabels)\n",
        "\n",
        "\n",
        "\n",
        "# paths train and validation\n",
        "train_path = '/Users/zahrad/Downloads/Facesdata/photos/train/'\n",
        "val_path = '//Users/zahrad/Downloads/Facesdata/photos/val/'\n",
        "# load train dataset\n",
        "trainX, trainy = faces_dataset(train_path)\n",
        "# load test dataset\n",
        "testX, testy = faces_dataset(val_path)\n",
        "# save arrays to one file in compressed format\n",
        "# savez_compressed('5-celebrity-faces-dataset.npz', trainX, trainy, testX, testy)"
      ]
    },
    {
      "cell_type": "code",
      "execution_count": 9,
      "metadata": {
        "colab": {
          "base_uri": "https://localhost:8080/"
        },
        "id": "ON3lauCj1p44",
        "outputId": "f54022c7-32d4-414f-ddc3-fc53f0d17dc4"
      },
      "outputs": [
        {
          "name": "stdout",
          "output_type": "stream",
          "text": [
            "(230, 160, 3)\n",
            "(44, 160, 3)\n",
            "(230,)\n",
            "(44,)\n"
          ]
        }
      ],
      "source": [
        "# Prepare data for Cnn\n",
        "\n",
        "Cnn_trainx = []\n",
        "for p in trainX:\n",
        "  Cnn_trainx.append(p[0])\n",
        "Cnn_trainx = np.array(Cnn_trainx)\n",
        "print(Cnn_trainx.shape)\n",
        "\n",
        "Cnn_testx = []\n",
        "for p in testX:\n",
        "  Cnn_testx.append(p[0])\n",
        "Cnn_testx = np.array(Cnn_testx)\n",
        "print(Cnn_testx.shape)\n",
        "\n",
        "# label encode targets\n",
        "out_encoder = LabelEncoder()\n",
        "out_encoder.fit(trainy)\n",
        "train_y = out_encoder.transform(trainy)\n",
        "print(train_y.shape)\n",
        "test_y = out_encoder.transform(testy)\n",
        "print(test_y.shape)"
      ]
    },
    {
      "cell_type": "markdown",
      "metadata": {},
      "source": [
        "Don't Run"
      ]
    },
    {
      "cell_type": "code",
      "execution_count": 10,
      "metadata": {
        "colab": {
          "base_uri": "https://localhost:8080/"
        },
        "id": "VtK6RA18dRjx",
        "outputId": "3d60b26e-6ae5-4136-d7a9-e634c9f508a7"
      },
      "outputs": [],
      "source": [
        "# Train model\n",
        "# face_detect = Face_Detection_Recognition_Video()\n",
        "# train_model = face_detect.train_cnn_model(Cnn_trainx,train_y,Cnn_testx,test_y,100)"
      ]
    },
    {
      "cell_type": "code",
      "execution_count": 11,
      "metadata": {
        "id": "xDWQ2drkGZV_"
      },
      "outputs": [],
      "source": [
        "# train_model[0].save_weights('/content/drive/MyDrive/Facenet/Model/weightmodel')\n",
        "# train_model[0].save('/content/drive/MyDrive/Facenet/Model/Mymodel.h5')"
      ]
    },
    {
      "cell_type": "code",
      "execution_count": 12,
      "metadata": {},
      "outputs": [
        {
          "name": "stderr",
          "output_type": "stream",
          "text": [
            "WARNING:absl:At this time, the v2.11+ optimizer `tf.keras.optimizers.Adam` runs slowly on M1/M2 Macs, please use the legacy Keras optimizer instead, located at `tf.keras.optimizers.legacy.Adam`.\n"
          ]
        }
      ],
      "source": [
        "# Loads the weights\n",
        "face_detect = Face_Detection_Recognition_Video()\n",
        "new_model = tf.keras.models.load_model('/Users/zahrad/Downloads/Model/Mymodel.h5')\n",
        "# model = face_detect.model_CNN()\n",
        "# new_model.load_weights('/Users/zahrad/Downloads/Model/checkpoint')\n",
        "# Load the previously saved weights\n",
        "# new_model.load_weights('/Users/zahrad/Downloads/Model/weightmodel.index')"
      ]
    },
    {
      "cell_type": "code",
      "execution_count": 13,
      "metadata": {
        "colab": {
          "base_uri": "https://localhost:8080/",
          "height": 602
        },
        "id": "1nkSnkbkk4cC",
        "outputId": "cbab19bd-76cb-4ea6-cde8-de1590444fc6"
      },
      "outputs": [
        {
          "name": "stderr",
          "output_type": "stream",
          "text": [
            "2024-01-10 19:26:50.391 Python[6603:550357] WARNING: Secure coding is not enabled for restorable state! Enable secure coding by implementing NSApplicationDelegate.applicationSupportsSecureRestorableState: and returning YES.\n"
          ]
        }
      ],
      "source": [
        "# start streaming video from webcam\n",
        "# video_stream()\n",
        "# label for video\n",
        "# label_html = 'Capturing...'\n",
        "# initialze bounding box to empty\n",
        "# bbox = ''\n",
        "# count = 0\n",
        "video_capture = cv2.VideoCapture(0)\n",
        "while(True):\n",
        "    # Capture the video frame\n",
        "    ret, frame = video_capture.read()\n",
        "    # Display the resulting frame\n",
        "    cv2.imshow('Capturing...', frame)\n",
        "       # get face region coordinates\n",
        "    faces , pos = face_detect.get_face(frame)\n",
        "        # create transparent overlay for bounding box\n",
        "    # bbox_array = np.zeros([480,640,4], dtype=np.uint8)\n",
        "    # get face bounding box for overlay\n",
        "    # for (x,y,w,h)in pos:\n",
        "    #   bbox_array = cv2.rectangle(bbox_array,(x,y),(x+w,y+h),(255,0,0),2)\n",
        "    for i in range(len(faces)):\n",
        "      recog_model = face_detect.recognition_model(faces[i],new_model)\n",
        "      txt = recog_model[0]\n",
        "      # print(txt , type(txt))\n",
        "      font = cv2.FONT_HERSHEY_SIMPLEX\n",
        "      # fontScale\n",
        "      fontScale = 1\n",
        "      # Blue color in BGR\n",
        "      color = (255, 0, 0)\n",
        "      # Line thickness of 2 px\n",
        "      thickness = 2\n",
        "\n",
        "      x, y, w, h = pos[i]['box']\n",
        "      # cv2.rectangle(frame, (x, y), (x+w, y+h), (0, 255, 0), 2)\n",
        "      cv2.rectangle(frame,(x,y),(x+w,y+h),(255,0,0),2)\n",
        "      cv2.putText(frame,txt,(x,y-10),font,fontScale,color,thickness)\n",
        "#     # cv2.imwrite('video.mp4',frame)\n",
        "\n",
        "    if cv2.waitKey(1) & 0xFF == ord('q'):\n",
        "        break\n",
        "# # After the loop release the cap object\n",
        "video_capture.release()\n",
        "# Destroy all the windows\n",
        "cv2.destroyAllWindows()\n",
        "\n",
        " "
      ]
    }
  ],
  "metadata": {
    "accelerator": "TPU",
    "colab": {
      "provenance": []
    },
    "kernelspec": {
      "display_name": "Python 3",
      "name": "python3"
    },
    "language_info": {
      "codemirror_mode": {
        "name": "ipython",
        "version": 3
      },
      "file_extension": ".py",
      "mimetype": "text/x-python",
      "name": "python",
      "nbconvert_exporter": "python",
      "pygments_lexer": "ipython3",
      "version": "3.11.2"
    }
  },
  "nbformat": 4,
  "nbformat_minor": 0
}
