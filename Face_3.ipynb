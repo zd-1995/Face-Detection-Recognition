{
  "cells": [
    {
      "cell_type": "code",
      "execution_count": null,
      "metadata": {
        "colab": {
          "base_uri": "https://localhost:8080/"
        },
        "id": "ullg3XjJVgiv",
        "outputId": "3cf265d5-2478-4f88-c5e7-3465b7a50ecc"
      },
      "outputs": [
        {
          "name": "stdout",
          "output_type": "stream",
          "text": [
            "Drive already mounted at /content/drive; to attempt to forcibly remount, call drive.mount(\"/content/drive\", force_remount=True).\n"
          ]
        }
      ],
      "source": [
        "from google.colab import drive\n",
        "drive.mount('/content/drive')"
      ]
    },
    {
      "cell_type": "code",
      "execution_count": null,
      "metadata": {
        "id": "pal7HuzCw2fj"
      },
      "outputs": [],
      "source": [
        "import zipfile\n",
        "import os\n",
        "import numpy as np\n",
        "import cv2\n",
        "\n",
        "\n",
        "class Data:\n",
        "\n",
        "  def __init__(self,zip_dir,out_dir):\n",
        "    super().__init__()\n",
        "    self.path_folder = out_dir\n",
        "    self.sub_folder = None\n",
        "    self.All_img = None\n",
        "    self.unzip(zip_dir)\n",
        "    direct = zip_dir.split('/')\n",
        "    # print(direct)\n",
        "    self.zip_name = direct[-1].split('.')[0]\n",
        "    # print(zip_name)\n",
        "    self.load()\n",
        "\n",
        "  def unzip(self,Path):\n",
        "   zip_file_path = f'{Path}'\n",
        "   with zipfile.ZipFile(zip_file_path, 'r') as zip_ref:\n",
        "        zip_ref.extractall(self.path_folder)\n",
        "\n",
        "\n",
        "  def load(self):\n",
        "    path = f'{self.path_folder}{self.zip_name}/images'\n",
        "    self.data = []\n",
        "    a = os.listdir(path)\n",
        "    for i in a:\n",
        "      b = os.listdir(f'{path}/' + i)\n",
        "      for j in b:\n",
        "        self.data.append(f'{path}/' + i + '/' + j)\n",
        "\n",
        "\n",
        "  def read(self,n):\n",
        "    images = []\n",
        "    for i in range(n):\n",
        "     img = cv2.imread(self.data[i])\n",
        "     img = self.preprocess(img)\n",
        "     images.append(img)\n",
        "    images = np.array(images)\n",
        "    return images\n",
        "\n",
        "  def preprocess(self,image):\n",
        "    #normalize\n",
        "    pixels = image.astype('float32')\n",
        "    pixels /= 255.0\n",
        "    #resize\n",
        "    img_normalized = cv2.resize(pixels,(1024,1024))\n",
        "\n",
        "    return img_normalized\n"
      ]
    },
    {
      "cell_type": "code",
      "execution_count": null,
      "metadata": {
        "id": "iF8-4p0CxkjM"
      },
      "outputs": [],
      "source": [
        "#Unzip , load , read folders\n",
        "\n",
        "path_train = '/content/drive/MyDrive/WIDER dataset/WIDER_train.zip'\n",
        "path_val = '/content/drive/MyDrive/WIDER dataset/WIDER_val.zip'\n",
        "path_test = '/content/drive/MyDrive/WIDER dataset/WIDER_test.zip'\n",
        "output = '/content/'\n",
        "\n",
        "train_dataset = Data(path_train,output)\n",
        "val_dataset = Data(path_val,output)\n",
        "test_dataset = Data(path_test,output)\n",
        "\n",
        "# train = train_dataset.read(10)\n",
        "# val = val_dataset.read(1)\n",
        "# test = test_dataset.read(1)"
      ]
    },
    {
      "cell_type": "code",
      "execution_count": null,
      "metadata": {
        "id": "PWZmTWdVk6rw"
      },
      "outputs": [],
      "source": [
        "# Remove all folder\n",
        "!rm -R WIDER_train/\n",
        "!rm -R WIDER_test/\n",
        "!rm -R WIDER_val/"
      ]
    },
    {
      "cell_type": "markdown",
      "metadata": {
        "id": "8G46hJhfKUZs"
      },
      "source": [
        "## Try 3"
      ]
    },
    {
      "cell_type": "code",
      "execution_count": null,
      "metadata": {
        "colab": {
          "base_uri": "https://localhost:8080/",
          "height": 191
        },
        "id": "PMRJsg78KT3L",
        "outputId": "478b33b8-455e-4ecb-81bc-dd892f298c94"
      },
      "outputs": [
        {
          "data": {
            "image/png": "[encoded data removed]",
            "text/plain": [
              "<PIL.Image.Image image mode=RGB size=76x76>"
            ]
          },
          "metadata": {},
          "output_type": "display_data"
        },
        {
          "data": {
            "image/png": "[encoded data removed]",
            "text/plain": [
              "<PIL.Image.Image image mode=RGB size=45x45>"
            ]
          },
          "metadata": {},
          "output_type": "display_data"
        },
        {
          "data": {
            "image/png": "[encoded data removed]",
            "text/plain": [
              "<PIL.Image.Image image mode=RGB size=53x53>"
            ]
          },
          "metadata": {},
          "output_type": "display_data"
        }
      ],
      "source": [
        "import cv2\n",
        "import numpy as np\n",
        "from google.colab.patches import cv2_imshow\n",
        "\n",
        "# Load some pre-trained data on face frontal from opencv (haar cascade algorithm)\n",
        "# trained_face_data = cv2.CascadeClassifier('haarcascade_frontalface_default.xml')\n",
        "trained_face_data = cv2.CascadeClassifier(cv2.data.haarcascades + \"haarcascade_frontalface_default.xml\")\n",
        "\n",
        "# Choose an image to detect faces in\n",
        "img = cv2.imread('/content/WIDER_train/images/0--Parade/0_Parade_Parade_0_1019.jpg')\n",
        "\n",
        "# Must convert to greyscale\n",
        "grayscaled_img = cv2.cvtColor(img, cv2.COLOR_BGR2GRAY)\n",
        "\n",
        "# Detect Faces\n",
        "face_coordinates = trained_face_data.detectMultiScale(grayscaled_img)\n",
        "\n",
        "img_crop = []\n",
        "\n",
        "# Draw rectangles around the faces\n",
        "for (x, y, w, h) in face_coordinates:\n",
        "    cv2.rectangle(img, (x, y), (x + w, y + h), (0, 255, 0), 2)\n",
        "    img_crop.append(img[y:y + h, x:x + w])\n",
        "\n",
        "for counter, cropped in enumerate(img_crop):\n",
        "    cv2_imshow(cropped)\n",
        "    cv2.imwrite(\"pose_result_{}.png\".format(counter), cropped)\n",
        "    cv2.waitKey(0)"
      ]
    }
  ],
  "metadata": {
    "colab": {
      "provenance": []
    },
    "kernelspec": {
      "display_name": "Python 3",
      "name": "python3"
    },
    "language_info": {
      "name": "python"
    }
  },
  "nbformat": 4,
  "nbformat_minor": 0
}
