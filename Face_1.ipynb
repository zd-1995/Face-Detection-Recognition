{
  "cells": [
    {
      "cell_type": "code",
      "execution_count": null,
      "metadata": {
        "colab": {
          "base_uri": "https://localhost:8080/"
        },
        "id": "ullg3XjJVgiv",
        "outputId": "3cf265d5-2478-4f88-c5e7-3465b7a50ecc"
      },
      "outputs": [
        {
          "name": "stdout",
          "output_type": "stream",
          "text": [
            "Drive already mounted at /content/drive; to attempt to forcibly remount, call drive.mount(\"/content/drive\", force_remount=True).\n"
          ]
        }
      ],
      "source": [
        "from google.colab import drive\n",
        "drive.mount('/content/drive')"
      ]
    },
    {
      "cell_type": "code",
      "execution_count": null,
      "metadata": {
        "id": "pal7HuzCw2fj"
      },
      "outputs": [],
      "source": [
        "import zipfile\n",
        "import os\n",
        "import numpy as np\n",
        "import cv2\n",
        "\n",
        "\n",
        "class Data:\n",
        "\n",
        "  def __init__(self,zip_dir,out_dir):\n",
        "    super().__init__()\n",
        "    self.path_folder = out_dir\n",
        "    self.sub_folder = None\n",
        "    self.All_img = None\n",
        "    self.unzip(zip_dir)\n",
        "    direct = zip_dir.split('/')\n",
        "    # print(direct)\n",
        "    self.zip_name = direct[-1].split('.')[0]\n",
        "    # print(zip_name)\n",
        "    self.load()\n",
        "\n",
        "  def unzip(self,Path):\n",
        "   zip_file_path = f'{Path}'\n",
        "   with zipfile.ZipFile(zip_file_path, 'r') as zip_ref:\n",
        "        zip_ref.extractall(self.path_folder)\n",
        "\n",
        "\n",
        "  def load(self):\n",
        "    path = f'{self.path_folder}{self.zip_name}/images'\n",
        "    self.data = []\n",
        "    a = os.listdir(path)\n",
        "    for i in a:\n",
        "      b = os.listdir(f'{path}/' + i)\n",
        "      for j in b:\n",
        "        self.data.append(f'{path}/' + i + '/' + j)\n",
        "\n",
        "\n",
        "  def read(self,n):\n",
        "    images = []\n",
        "    for i in range(n):\n",
        "     img = cv2.imread(self.data[i])\n",
        "     img = self.preprocess(img)\n",
        "     images.append(img)\n",
        "    images = np.array(images)\n",
        "    return images\n",
        "\n",
        "  def preprocess(self,image):\n",
        "    #normalize\n",
        "    pixels = image.astype('float32')\n",
        "    pixels /= 255.0\n",
        "    #resize\n",
        "    img_normalized = cv2.resize(pixels,(1024,1024))\n",
        "\n",
        "    return img_normalized\n"
      ]
    },
    {
      "cell_type": "code",
      "execution_count": null,
      "metadata": {
        "id": "iF8-4p0CxkjM"
      },
      "outputs": [],
      "source": [
        "#Unzip , load , read folders\n",
        "\n",
        "path_train = '/content/drive/MyDrive/WIDER dataset/WIDER_train.zip'\n",
        "path_val = '/content/drive/MyDrive/WIDER dataset/WIDER_val.zip'\n",
        "path_test = '/content/drive/MyDrive/WIDER dataset/WIDER_test.zip'\n",
        "output = '/content/'\n",
        "\n",
        "train_dataset = Data(path_train,output)\n",
        "val_dataset = Data(path_val,output)\n",
        "test_dataset = Data(path_test,output)\n",
        "\n",
        "# train = train_dataset.read(10)\n",
        "# val = val_dataset.read(1)\n",
        "# test = test_dataset.read(1)"
      ]
    },
    {
      "cell_type": "markdown",
      "metadata": {
        "id": "SAdcaW2yKC45"
      },
      "source": [
        "## Try 1"
      ]
    },
    {
      "cell_type": "code",
      "execution_count": null,
      "metadata": {
        "colab": {
          "base_uri": "https://localhost:8080/"
        },
        "id": "DdbSXOBJ0_As",
        "outputId": "2ba0f92d-4272-462f-a779-d4da39f3054e"
      },
      "outputs": [
        {
          "name": "stdout",
          "output_type": "stream",
          "text": [
            "Cloning into 'Tiny_Faces_in_Tensorflow'...\n",
            "remote: Enumerating objects: 36, done.\u001b[K\n",
            "remote: Total 36 (delta 0), reused 0 (delta 0), pack-reused 36\u001b[K\n",
            "Receiving objects: 100% (36/36), 4.05 MiB | 14.50 MiB/s, done.\n",
            "Resolving deltas: 100% (3/3), done.\n"
          ]
        }
      ],
      "source": [
        "!git clone 'https://github.com/cydonia999/Tiny_Faces_in_Tensorflow.git'"
      ]
    },
    {
      "cell_type": "code",
      "execution_count": null,
      "metadata": {
        "id": "Bmh8xXqM2QJY"
      },
      "outputs": [],
      "source": [
        "!python /content/Tiny_Faces_in_Tensorflow/matconvnet_hr101_to_pickle.py --matlab_model_path '/content/drive/MyDrive/weight/hr_res101.mat' --weight_file_path  '/content/weghit_n.pkl'"
      ]
    },
    {
      "cell_type": "code",
      "execution_count": null,
      "metadata": {
        "colab": {
          "base_uri": "https://localhost:8080/"
        },
        "id": "c-KtxTn5hq-d",
        "outputId": "2dda4650-6b81-4df8-e8be-08998a2b1f5b"
      },
      "outputs": [
        {
          "name": "stdout",
          "output_type": "stream",
          "text": [
            "2023-11-21 06:34:12.316172: E tensorflow/compiler/xla/stream_executor/cuda/cuda_dnn.cc:9342] Unable to register cuDNN factory: Attempting to register factory for plugin cuDNN when one has already been registered\n",
            "2023-11-21 06:34:12.316237: E tensorflow/compiler/xla/stream_executor/cuda/cuda_fft.cc:609] Unable to register cuFFT factory: Attempting to register factory for plugin cuFFT when one has already been registered\n",
            "2023-11-21 06:34:12.316273: E tensorflow/compiler/xla/stream_executor/cuda/cuda_blas.cc:1518] Unable to register cuBLAS factory: Attempting to register factory for plugin cuBLAS when one has already been registered\n",
            "2023-11-21 06:34:13.717920: W tensorflow/compiler/tf2tensorrt/utils/py_utils.cc:38] TF-TRT Warning: Could not find TensorRT\n"
          ]
        }
      ],
      "source": [
        "!python /content/Tiny_Faces_in_Tensorflow/tiny_face_eval.py --weight_file_path '/content/weghit_n.pkl' --data_dir '/content/WIDER_val/images/0--Parade/0_Parade_Parade_0_102.jpg' --output_dir '/content/'\n",
        "\n",
        "#tf.compat.v1.placeholder"
      ]
    }
  ],
  "metadata": {
    "colab": {
      "provenance": []
    },
    "kernelspec": {
      "display_name": "Python 3",
      "name": "python3"
    },
    "language_info": {
      "name": "python"
    }
  },
  "nbformat": 4,
  "nbformat_minor": 0
}
